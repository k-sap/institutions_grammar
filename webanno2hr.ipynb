{
 "cells": [
  {
   "cell_type": "code",
   "execution_count": 2,
   "metadata": {},
   "outputs": [],
   "source": [
    "__author__ = \"Karol Saputa\"\n",
    "__copyright__ = \"Copyright (C) 2004 Karol Saputa\"\n",
    "__license__ = \"Public Domain\"\n",
    "__version__ = \"1.0\""
   ]
  },
  {
   "cell_type": "code",
   "execution_count": 8,
   "metadata": {},
   "outputs": [],
   "source": [
    "import csv"
   ]
  },
  {
   "cell_type": "code",
   "execution_count": 9,
   "metadata": {},
   "outputs": [],
   "source": [
    "import pandas as pd"
   ]
  },
  {
   "cell_type": "code",
   "execution_count": 10,
   "metadata": {},
   "outputs": [],
   "source": [
    "from pathlib import Path"
   ]
  },
  {
   "cell_type": "code",
   "execution_count": 11,
   "metadata": {},
   "outputs": [],
   "source": [
    "def get_colnames(filename):\n",
    "    layers = []\n",
    "    colnames = []\n",
    "    with open(filename) as f:\n",
    "        for i in range(10):\n",
    "            line = f.readline()\n",
    "            if line[0] != '#':\n",
    "                break\n",
    "            elif i == 0:\n",
    "                continue\n",
    "            else:\n",
    "                layers.append(line.split('=')[-1])\n",
    "\n",
    "    for layer in layers:\n",
    "        name = layer.split('|')[0].split('.')[-1]\n",
    "        cols = layer.split('|')[1:]\n",
    "        colnames.extend([name + '_' + c.strip() for c in cols])\n",
    "        \n",
    "    precols = ['s_num', 'ann_range', 'text']\n",
    "    all_colnames = precols + colnames + ['']\n",
    "    return all_colnames"
   ]
  },
  {
   "cell_type": "code",
   "execution_count": 12,
   "metadata": {},
   "outputs": [],
   "source": [
    "def get_anns_cols(colnames):\n",
    "     return [True if 'Regulative' in c  or 'Constitutive' in c else False for c in colnames]"
   ]
  },
  {
   "cell_type": "code",
   "execution_count": 13,
   "metadata": {},
   "outputs": [],
   "source": [
    "def to_flatten(row, ann_cols):\n",
    "    for i in range(len(row)):\n",
    "        if ann_cols[i] and row[i] not in ['_', '*']:\n",
    "            return True, i\n",
    "    return False, None"
   ]
  },
  {
   "cell_type": "code",
   "execution_count": 18,
   "metadata": {},
   "outputs": [],
   "source": [
    "def tsv2hr(filename):\n",
    "    input = Path(filename)\n",
    "    output = Path(input.parents[0], input.stem + '_hr.tsv')\n",
    "    colnames = get_colnames(filename)\n",
    "    p = pd.read_csv(filename, delimiter='\\t', skiprows=5, header=None, comment='#')\n",
    "    inds = []\n",
    "    text = []\n",
    "    ann_last = None\n",
    "    is_first = True\n",
    "    with open(output, 'w') as ff:\n",
    "        ff.write('\\t'.join(colnames) + '\\n')\n",
    "        for ind, row in p.iterrows():\n",
    "            is_annotated, ann_ind = to_flatten(row, get_anns_cols(colnames))\n",
    "            if is_annotated and row[ann_ind] != ann_last and not is_first:\n",
    "                p.iloc[ind-1, 2] = ' '.join(text) # flatten last annotation\n",
    "                ff.write('\\t'.join([str(el) for el in p.iloc[ind-1]]) + '\\n')\n",
    "                is_first = True\n",
    "                inds = [ind]\n",
    "                ann_last = row[ann_ind]\n",
    "                text = [row[2]]\n",
    "            elif is_annotated:\n",
    "                is_first = False\n",
    "                ann_last = row[ann_ind]\n",
    "                inds.append(ind)\n",
    "                text.append(row[2])\n",
    "            elif not is_annotated and not is_first:\n",
    "                p.iloc[ind-1, 2] = ' '.join(text)\n",
    "                ff.write('\\t'.join([str(el) for el in p.iloc[ind-1]]) + '\\n')\n",
    "                is_first = True\n",
    "                inds = [ind]\n",
    "                ann_last = None\n",
    "                text = []\n",
    "            else:\n",
    "                ff.write('\\t'.join([str(el) for el in row]) + '\\n') \n",
    "                is_first = True\n",
    "                inds = []\n",
    "                text = []"
   ]
  },
  {
   "cell_type": "code",
   "execution_count": 19,
   "metadata": {},
   "outputs": [],
   "source": [
    "filename = 'data/doc_big.tsv'\n",
    "tsv2hr(filename)"
   ]
  },
  {
   "cell_type": "code",
   "execution_count": null,
   "metadata": {},
   "outputs": [],
   "source": []
  }
 ],
 "metadata": {
  "kernelspec": {
   "display_name": "Python 3",
   "language": "python",
   "name": "python3"
  },
  "language_info": {
   "codemirror_mode": {
    "name": "ipython",
    "version": 3
   },
   "file_extension": ".py",
   "mimetype": "text/x-python",
   "name": "python",
   "nbconvert_exporter": "python",
   "pygments_lexer": "ipython3",
   "version": "3.8.3"
  }
 },
 "nbformat": 4,
 "nbformat_minor": 4
}
